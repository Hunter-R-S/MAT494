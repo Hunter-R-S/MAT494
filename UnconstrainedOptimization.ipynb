{
  "nbformat": 4,
  "nbformat_minor": 0,
  "metadata": {
    "colab": {
      "provenance": [],
      "authorship_tag": "ABX9TyPHC3eqYm8Z0gQQu9CkPqVO",
      "include_colab_link": true
    },
    "kernelspec": {
      "name": "python3",
      "display_name": "Python 3"
    },
    "language_info": {
      "name": "python"
    }
  },
  "cells": [
    {
      "cell_type": "markdown",
      "metadata": {
        "id": "view-in-github",
        "colab_type": "text"
      },
      "source": [
        "<a href=\"https://colab.research.google.com/github/Hunter-R-S/MAT494/blob/main/UnconstrainedOptimization.ipynb\" target=\"_parent\"><img src=\"https://colab.research.google.com/assets/colab-badge.svg\" alt=\"Open In Colab\"/></a>"
      ]
    },
    {
      "cell_type": "markdown",
      "source": [
        "# **MAT 494 - HW8 - Unconstrained Optimization**"
      ],
      "metadata": {
        "id": "At-ybZzDEIGY"
      }
    },
    {
      "cell_type": "markdown",
      "source": [
        "The following will serve as an example of unconstrained optimization. It comes from QuantEcon's series on methods in Python."
      ],
      "metadata": {
        "id": "HcKj8th8Ebtx"
      }
    },
    {
      "cell_type": "code",
      "execution_count": 1,
      "metadata": {
        "id": "2TpprUEZ9Pv6"
      },
      "outputs": [],
      "source": [
        "import numpy as np\n",
        "import matplotlib.pyplot as plt\n",
        "%matplotlib inline"
      ]
    },
    {
      "cell_type": "markdown",
      "source": [
        "Below we can take a consumer with two goods (consumer theory), and plot their utility and budget constraint at α and 1-α:"
      ],
      "metadata": {
        "id": "nSaqxYfGE2Sx"
      }
    },
    {
      "cell_type": "code",
      "source": [
        "def U(A, B, alpha=1/3):\n",
        "    return B**alpha * A**(1-alpha)\n",
        "\n",
        "fig, ax = plt.subplots()\n",
        "B = 1.5\n",
        "A = np.linspace(1, 10, 100)\n",
        "ax.plot(A, U(A, B))\n",
        "ax.set_xlabel(\"A\")\n",
        "ax.set_ylabel(\"U(B=1.5, A)\")"
      ],
      "metadata": {
        "colab": {
          "base_uri": "https://localhost:8080/",
          "height": 297
        },
        "id": "f5B9dJJPFOCI",
        "outputId": "03bb41db-4288-471d-93ff-00e1ba4d1333"
      },
      "execution_count": 2,
      "outputs": [
        {
          "output_type": "execute_result",
          "data": {
            "text/plain": [
              "Text(0, 0.5, 'U(B=1.5, A)')"
            ]
          },
          "metadata": {},
          "execution_count": 2
        },
        {
          "output_type": "display_data",
          "data": {
            "text/plain": [
              "<Figure size 432x288 with 1 Axes>"
            ],
            "image/png": "[encoded data removed]"
          },
          "metadata": {
            "needs_background": "light"
          }
        }
      ]
    },
    {
      "cell_type": "code",
      "source": [
        "def A_bc(B, W=20, pa=2):\n",
        "    \"Given B, W, and pa return the max amount of A our consumer can afford\"\n",
        "    return (W - B) / pa\n",
        "\n",
        "def plot_budget_constraint(ax, W=20, pa=2):\n",
        "    B_bc = np.array([0, W])\n",
        "    A = A_bc(B_bc, W, pa)\n",
        "    ax.plot(B_bc, A)\n",
        "    ax.fill_between(B_bc, 0, A, alpha=0.2)\n",
        "    ax.set_xlabel(\"B\")\n",
        "    ax.set_ylabel(\"A\")\n",
        "    return ax\n",
        "\n",
        "fig, ax = plt.subplots()\n",
        "plot_budget_constraint(ax, 20, 2)"
      ],
      "metadata": {
        "colab": {
          "base_uri": "https://localhost:8080/",
          "height": 297
        },
        "id": "eQu4jCkSFRjg",
        "outputId": "d9d1f5d9-112a-42b8-d195-4f42c0ae6a38"
      },
      "execution_count": 3,
      "outputs": [
        {
          "output_type": "execute_result",
          "data": {
            "text/plain": [
              "<matplotlib.axes._subplots.AxesSubplot at 0x7f025a2f1290>"
            ]
          },
          "metadata": {},
          "execution_count": 3
        },
        {
          "output_type": "display_data",
          "data": {
            "text/plain": [
              "<Figure size 432x288 with 1 Axes>"
            ],
            "image/png": "[encoded data removed]"
          },
          "metadata": {
            "needs_background": "light"
          }
        }
      ]
    },
    {
      "cell_type": "markdown",
      "source": [
        "We can then turn the problem into an unconstrained version to better understand optimality across varying prices and levels of wealth:"
      ],
      "metadata": {
        "id": "bnSJHIzMFX8G"
      }
    },
    {
      "cell_type": "code",
      "source": [
        "from scipy.optimize import minimize_scalar\n",
        "\n",
        "def objective(B, W=20, pa=2):\n",
        "    \"\"\"\n",
        "    Return value of -U for a given B, when we consume as much A as possible\n",
        "\n",
        "    Note that we return -U because scipy wants to minimize functions,\n",
        "    and the value of B that minimizes -U will maximize U\n",
        "    \"\"\"\n",
        "    A = A_bc(B, W, pa)\n",
        "    return -U(A, B)\n",
        "\n",
        "result = minimize_scalar(objective)\n",
        "optimal_B = result.x\n",
        "optimal_A = A_bc(optimal_B, 20, 2)\n",
        "optimal_U = U(optimal_A, optimal_B)\n",
        "\n",
        "print(\"The optimal U is \", optimal_U)\n",
        "print(\"and was found at (A,B) =\", (optimal_A, optimal_B))"
      ],
      "metadata": {
        "colab": {
          "base_uri": "https://localhost:8080/"
        },
        "id": "fYFJRAbSFn-W",
        "outputId": "815226b1-8600-40e5-8390-8f847fbb7ab2"
      },
      "execution_count": 5,
      "outputs": [
        {
          "output_type": "stream",
          "name": "stdout",
          "text": [
            "The optimal U is  6.666666666666667\n",
            "and was found at (A,B) = (6.666666630651958, 6.666666738696083)\n"
          ]
        }
      ]
    },
    {
      "cell_type": "code",
      "source": [
        "# Create various prices\n",
        "n_pa = 50\n",
        "prices_A = np.linspace(0.5, 5.0, n_pa)\n",
        "W = 20\n",
        "\n",
        "# Create lists to store the results of the optimal A and B calculation\n",
        "optimal_As = []\n",
        "optimal_Bs = []\n",
        "for pa in prices_A:\n",
        "    result = minimize_scalar(objective, args=(W, pa))\n",
        "    opt_B_val = result.x\n",
        "\n",
        "    optimal_Bs.append(opt_B_val)\n",
        "    optimal_As.append(A_bc(opt_B_val, W, pa))\n",
        "\n",
        "fig, ax = plt.subplots()\n",
        "\n",
        "ax.plot(prices_A, optimal_As, label=\"Purchased Apples\")\n",
        "ax.plot(prices_A, optimal_Bs, label=\"Purchased Bananas\")\n",
        "ax.set_xlabel(\"Price of Apples\")\n",
        "ax.legend()"
      ],
      "metadata": {
        "colab": {
          "base_uri": "https://localhost:8080/",
          "height": 297
        },
        "id": "zpdR2c8pFsl9",
        "outputId": "27cf2ac3-f467-4d88-ab11-5a2dd672485f"
      },
      "execution_count": 6,
      "outputs": [
        {
          "output_type": "execute_result",
          "data": {
            "text/plain": [
              "<matplotlib.legend.Legend at 0x7f0251fbd110>"
            ]
          },
          "metadata": {},
          "execution_count": 6
        },
        {
          "output_type": "display_data",
          "data": {
            "text/plain": [
              "<Figure size 432x288 with 1 Axes>"
            ],
            "image/png": "[encoded data removed]"
          },
          "metadata": {
            "needs_background": "light"
          }
        }
      ]
    }
  ]
}