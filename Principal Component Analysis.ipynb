{
  "nbformat": 4,
  "nbformat_minor": 0,
  "metadata": {
    "colab": {
      "provenance": [],
      "authorship_tag": "ABX9TyMH443o+XJocvL5t/eS7Eto",
      "include_colab_link": true
    },
    "kernelspec": {
      "name": "python3",
      "display_name": "Python 3"
    },
    "language_info": {
      "name": "python"
    }
  },
  "cells": [
    {
      "cell_type": "markdown",
      "metadata": {
        "id": "view-in-github",
        "colab_type": "text"
      },
      "source": [
        "<a href=\"https://colab.research.google.com/github/Hunter-R-S/MAT494/blob/main/Principal%20Component%20Analysis.ipynb\" target=\"_parent\"><img src=\"https://colab.research.google.com/assets/colab-badge.svg\" alt=\"Open In Colab\"/></a>"
      ]
    },
    {
      "cell_type": "markdown",
      "source": [
        "# **MAT494 - HW3 - Principal Component Analysis**"
      ],
      "metadata": {
        "id": "l3SKyOXidk1U"
      }
    },
    {
      "cell_type": "markdown",
      "source": [
        "## **1. Singular Value Decomposition**"
      ],
      "metadata": {
        "id": "ZSjUFBrjgctp"
      }
    },
    {
      "cell_type": "markdown",
      "source": [
        "This project is meant to exemplify principal component analysis (PCA) specifically in the context of singular value decomposition (SVD).\n",
        "\n",
        "The examples in this work come from QuantEcon's python series."
      ],
      "metadata": {
        "id": "GDyCYau9fgS7"
      }
    },
    {
      "cell_type": "markdown",
      "source": [
        "First, standard imports:"
      ],
      "metadata": {
        "id": "pez16fxTgZlP"
      }
    },
    {
      "cell_type": "code",
      "source": [
        "import numpy as np\n",
        "import numpy.linalg as LA\n",
        "import matplotlib.pyplot as plt\n",
        "%matplotlib inline\n",
        "import quandl as ql\n",
        "import pandas as pd"
      ],
      "metadata": {
        "id": "MFI_4zPSf062"
      },
      "execution_count": null,
      "outputs": []
    },
    {
      "cell_type": "markdown",
      "source": [
        "Second, two classes that merge PCA and SVD into matrix X:"
      ],
      "metadata": {
        "id": "uaFkUSP8jmmX"
      }
    },
    {
      "cell_type": "code",
      "source": [
        "class DecomAnalysis:\n",
        "    \"\"\"\n",
        "    A class for conducting PCA and SVD.\n",
        "    \"\"\"\n",
        "\n",
        "    def __init__(self, X, n_component=None):\n",
        "\n",
        "        self.X = X\n",
        "\n",
        "        self.Ω = (X @ X.T)\n",
        "\n",
        "        self.m, self.n = X.shape\n",
        "        self.r = LA.matrix_rank(X)\n",
        "\n",
        "        if n_component:\n",
        "            self.n_component = n_component\n",
        "        else:\n",
        "            self.n_component = self.m\n",
        "\n",
        "    def pca(self):\n",
        "\n",
        "        𝜆, P = LA.eigh(self.Ω)    # columns of P are eigenvectors\n",
        "\n",
        "        ind = sorted(range(𝜆.size), key=lambda x: 𝜆[x], reverse=True)\n",
        "\n",
        "        # sort by eigenvalues\n",
        "        self.𝜆 = 𝜆[ind]\n",
        "        P = P[:, ind]\n",
        "        self.P = P @ diag_sign(P)\n",
        "\n",
        "        self.Λ = np.diag(self.𝜆)\n",
        "\n",
        "        self.explained_ratio_pca = np.cumsum(self.𝜆) / self.𝜆.sum()\n",
        "\n",
        "        # compute the N by T matrix of principal components \n",
        "        self.𝜖 = self.P.T @ self.X\n",
        "\n",
        "        P = self.P[:, :self.n_component]\n",
        "        𝜖 = self.𝜖[:self.n_component, :]\n",
        "\n",
        "        # transform data\n",
        "        self.X_pca = P @ 𝜖\n",
        "\n",
        "    def svd(self):\n",
        "\n",
        "        U, 𝜎, VT = LA.svd(self.X)\n",
        "\n",
        "        ind = sorted(range(𝜎.size), key=lambda x: 𝜎[x], reverse=True)\n",
        "\n",
        "        # sort by eigenvalues\n",
        "        d = min(self.m, self.n)\n",
        "\n",
        "        self.𝜎 = 𝜎[ind]\n",
        "        U = U[:, ind]\n",
        "        D = diag_sign(U)\n",
        "        self.U = U @ D\n",
        "        VT[:d, :] = D @ VT[ind, :]\n",
        "        self.VT = VT\n",
        "\n",
        "        self.Σ = np.zeros((self.m, self.n))\n",
        "        self.Σ[:d, :d] = np.diag(self.𝜎)\n",
        "\n",
        "        𝜎_sq = self.𝜎 ** 2\n",
        "        self.explained_ratio_svd = np.cumsum(𝜎_sq) / 𝜎_sq.sum()\n",
        "\n",
        "        # slicing matrices by the number of components to use\n",
        "        U = self.U[:, :self.n_component]\n",
        "        Σ = self.Σ[:self.n_component, :self.n_component]\n",
        "        VT = self.VT[:self.n_component, :]\n",
        "\n",
        "        # transform data\n",
        "        self.X_svd = U @ Σ @ VT\n",
        "\n",
        "    def fit(self, n_component):\n",
        "\n",
        "        # pca\n",
        "        P = self.P[:, :n_component]\n",
        "        𝜖 = self.𝜖[:n_component, :]\n",
        "\n",
        "        # transform data\n",
        "        self.X_pca = P @ 𝜖\n",
        "\n",
        "        # svd\n",
        "        U = self.U[:, :n_component]\n",
        "        Σ = self.Σ[:n_component, :n_component]\n",
        "        VT = self.VT[:n_component, :]\n",
        "\n",
        "        # transform data\n",
        "        self.X_svd = U @ Σ @ VT\n",
        "\n",
        "def diag_sign(A):\n",
        "    \"Compute the signs of the diagonal of matrix A\"\n",
        "\n",
        "    D = np.diag(np.sign(np.diag(A)))\n",
        "\n",
        "    return D\n"
      ],
      "metadata": {
        "id": "L4aonfrhhM8k"
      },
      "execution_count": 3,
      "outputs": []
    },
    {
      "cell_type": "code",
      "source": [
        "def compare_pca_svd(da):\n",
        "    \"\"\"\n",
        "    Compare the outcomes of PCA and SVD.\n",
        "    \"\"\"\n",
        "\n",
        "    da.pca()\n",
        "    da.svd()\n",
        "\n",
        "    print('Eigenvalues and Singular values\\n')\n",
        "    print(f'λ = {da.λ}\\n')\n",
        "    print(f'σ^2 = {da.σ**2}\\n')\n",
        "    print('\\n')\n",
        "\n",
        "    # loading matrices\n",
        "    fig, axs = plt.subplots(1, 2, figsize=(14, 5))\n",
        "    plt.suptitle('loadings')\n",
        "    axs[0].plot(da.P.T)\n",
        "    axs[0].set_title('P')\n",
        "    axs[0].set_xlabel('m')\n",
        "    axs[1].plot(da.U.T)\n",
        "    axs[1].set_title('U')\n",
        "    axs[1].set_xlabel('m')\n",
        "    plt.show()\n",
        "\n",
        "    # principal components\n",
        "    fig, axs = plt.subplots(1, 2, figsize=(14, 5))\n",
        "    plt.suptitle('principal components')\n",
        "    axs[0].plot(da.ε.T)\n",
        "    axs[0].set_title('ε')\n",
        "    axs[0].set_xlabel('n')\n",
        "    axs[1].plot(da.VT[:da.r, :].T * np.sqrt(da.λ))\n",
        "    axs[1].set_title('$V^T*\\sqrt{\\lambda}$')\n",
        "    axs[1].set_xlabel('n')\n",
        "    plt.show()"
      ],
      "metadata": {
        "id": "RlC_UD3mjic6"
      },
      "execution_count": 4,
      "outputs": []
    },
    {
      "cell_type": "markdown",
      "source": [
        "The above classes can be used to conduct and compare SVD and PCA for any Matrix X in R^2 with rows and columns (m,n)."
      ],
      "metadata": {
        "id": "iJnU3Co2pyLZ"
      }
    }
  ]
}