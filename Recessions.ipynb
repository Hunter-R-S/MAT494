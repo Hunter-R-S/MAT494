{
  "nbformat": 4,
  "nbformat_minor": 0,
  "metadata": {
    "colab": {
      "provenance": [],
      "authorship_tag": "ABX9TyO5WI/FOGxBhlz1O1d/b6QO",
      "include_colab_link": true
    },
    "kernelspec": {
      "name": "python3",
      "display_name": "Python 3"
    },
    "language_info": {
      "name": "python"
    }
  },
  "cells": [
    {
      "cell_type": "markdown",
      "metadata": {
        "id": "view-in-github",
        "colab_type": "text"
      },
      "source": [
        "<a href=\"https://colab.research.google.com/github/Hunter-R-S/MAT494/blob/main/Recessions.ipynb\" target=\"_parent\"><img src=\"https://colab.research.google.com/assets/colab-badge.svg\" alt=\"Open In Colab\"/></a>"
      ]
    },
    {
      "cell_type": "markdown",
      "source": [
        "# **Recessions**\n",
        "MAT 494 Final Project\n",
        "\n",
        "Hunter Stephan"
      ],
      "metadata": {
        "id": "_2Z2_J110VD7"
      }
    },
    {
      "cell_type": "code",
      "source": [
        "import datetime\n",
        "import numpy as np\n",
        "import pandas as pd\n",
        "import seaborn as sns\n",
        "import pandas_datareader.data as web\n",
        "\n",
        "from sklearn import (\n",
        "    linear_model, metrics, neural_network, pipeline, preprocessing, model_selection\n",
        ")\n",
        "\n",
        "\n",
        "\n",
        "import matplotlib.pyplot as plt\n",
        "%matplotlib inline"
      ],
      "metadata": {
        "id": "D3aTG4eZ1XnI"
      },
      "execution_count": 2,
      "outputs": []
    },
    {
      "cell_type": "markdown",
      "source": [
        "Pulling data from FRED post 1974 and manipulating CPI, house prices, and employment to show year over year change as a percentage:"
      ],
      "metadata": {
        "id": "BPOyC_1C2vMW"
      }
    },
    {
      "cell_type": "code",
      "source": [
        "start = \"1974-01-01\"\n",
        "end = datetime.date.today()\n",
        "\n",
        "def pct_change_yearly(df):\n",
        "    \"Compute pct_change on previous year, assuming quarterly:\"\n",
        "    return (df - df.shift(4))/df.shift(4)\n",
        "\n",
        "fred_load_a =  (\n",
        "    web.DataReader([\"USRECQ\", \"DFF\", \"T10Y2Y\"], \"fred\", start, end)\n",
        "    .resample(\"QS\")\n",
        "    .mean()\n",
        ")\n",
        "\n",
        "fred_load_b =  (\n",
        "    web.DataReader([\"PAYEMS\", \"CPIAUCSL\", \"USSTHPI\"], \"fred\", start, end)\n",
        "    .resample(\"QS\")\n",
        "    .mean()\n",
        "    .pipe(pct_change_yearly)\n",
        "    .dropna()\n",
        ")\n",
        "\n",
        "fred_data = (\n",
        "    fred_load_a\n",
        "    .join(fred_load_b)\n",
        "    .dropna().rename(columns=dict(\n",
        "            USRECQ = \"Recession\",\n",
        "            DFF = \"Rate\",\n",
        "            PAYEMS = \"Employment\",\n",
        "            CPIAUCSL = \"CPI\",\n",
        "            T10Y2Y=\"Yield_Curve\",\n",
        "            USSTHPI =\"House_Prices\"\n",
        "    ))\n",
        ")\n",
        "\n",
        "fred_data.head()"
      ],
      "metadata": {
        "colab": {
          "base_uri": "https://localhost:8080/",
          "height": 238
        },
        "id": "LK9fnYPo7Eke",
        "outputId": "0ce495e4-129c-4eda-f867-6d25937dfe56"
      },
      "execution_count": 73,
      "outputs": [
        {
          "output_type": "execute_result",
          "data": {
            "text/plain": [
              "            Recession      Rate  Yield_Curve  Employment       CPI  \\\n",
              "DATE                                                                 \n",
              "1976-04-01        0.0  5.195385     0.801364    0.036476  0.060150   \n",
              "1976-07-01        0.0  5.283478     1.099687    0.034575  0.055897   \n",
              "1976-10-01        0.0  4.874239     1.467377    0.031542  0.051870   \n",
              "1977-01-01        0.0  4.660667     1.332222    0.028354  0.059034   \n",
              "1977-04-01        0.0  5.157473     1.248254    0.034978  0.067967   \n",
              "\n",
              "            House_Prices  \n",
              "DATE                      \n",
              "1976-04-01      0.073303  \n",
              "1976-07-01      0.088158  \n",
              "1976-10-01      0.080360  \n",
              "1977-01-01      0.105648  \n",
              "1977-04-01      0.111230  "
            ],
            "text/html": [
              "\n",
              "  <div id=\"df-74abe0de-c761-49e3-8929-1ddb9b12fe63\">\n",
              "    <div class=\"colab-df-container\">\n",
              "      <div>\n",
              "<style scoped>\n",
              "    .dataframe tbody tr th:only-of-type {\n",
              "        vertical-align: middle;\n",
              "    }\n",
              "\n",
              "    .dataframe tbody tr th {\n",
              "        vertical-align: top;\n",
              "    }\n",
              "\n",
              "    .dataframe thead th {\n",
              "        text-align: right;\n",
              "    }\n",
              "</style>\n",
              "<table border=\"1\" class=\"dataframe\">\n",
              "  <thead>\n",
              "    <tr style=\"text-align: right;\">\n",
              "      <th></th>\n",
              "      <th>Recession</th>\n",
              "      <th>Rate</th>\n",
              "      <th>Yield_Curve</th>\n",
              "      <th>Employment</th>\n",
              "      <th>CPI</th>\n",
              "      <th>House_Prices</th>\n",
              "    </tr>\n",
              "    <tr>\n",
              "      <th>DATE</th>\n",
              "      <th></th>\n",
              "      <th></th>\n",
              "      <th></th>\n",
              "      <th></th>\n",
              "      <th></th>\n",
              "      <th></th>\n",
              "    </tr>\n",
              "  </thead>\n",
              "  <tbody>\n",
              "    <tr>\n",
              "      <th>1976-04-01</th>\n",
              "      <td>0.0</td>\n",
              "      <td>5.195385</td>\n",
              "      <td>0.801364</td>\n",
              "      <td>0.036476</td>\n",
              "      <td>0.060150</td>\n",
              "      <td>0.073303</td>\n",
              "    </tr>\n",
              "    <tr>\n",
              "      <th>1976-07-01</th>\n",
              "      <td>0.0</td>\n",
              "      <td>5.283478</td>\n",
              "      <td>1.099687</td>\n",
              "      <td>0.034575</td>\n",
              "      <td>0.055897</td>\n",
              "      <td>0.088158</td>\n",
              "    </tr>\n",
              "    <tr>\n",
              "      <th>1976-10-01</th>\n",
              "      <td>0.0</td>\n",
              "      <td>4.874239</td>\n",
              "      <td>1.467377</td>\n",
              "      <td>0.031542</td>\n",
              "      <td>0.051870</td>\n",
              "      <td>0.080360</td>\n",
              "    </tr>\n",
              "    <tr>\n",
              "      <th>1977-01-01</th>\n",
              "      <td>0.0</td>\n",
              "      <td>4.660667</td>\n",
              "      <td>1.332222</td>\n",
              "      <td>0.028354</td>\n",
              "      <td>0.059034</td>\n",
              "      <td>0.105648</td>\n",
              "    </tr>\n",
              "    <tr>\n",
              "      <th>1977-04-01</th>\n",
              "      <td>0.0</td>\n",
              "      <td>5.157473</td>\n",
              "      <td>1.248254</td>\n",
              "      <td>0.034978</td>\n",
              "      <td>0.067967</td>\n",
              "      <td>0.111230</td>\n",
              "    </tr>\n",
              "  </tbody>\n",
              "</table>\n",
              "</div>\n",
              "      <button class=\"colab-df-convert\" onclick=\"convertToInteractive('df-74abe0de-c761-49e3-8929-1ddb9b12fe63')\"\n",
              "              title=\"Convert this dataframe to an interactive table.\"\n",
              "              style=\"display:none;\">\n",
              "        \n",
              "  <svg xmlns=\"http://www.w3.org/2000/svg\" height=\"24px\"viewBox=\"0 0 24 24\"\n",
              "       width=\"24px\">\n",
              "    <path d=\"M0 0h24v24H0V0z\" fill=\"none\"/>\n",
              "    <path d=\"M18.56 5.44l.94 2.06.94-2.06 2.06-.94-2.06-.94-.94-2.06-.94 2.06-2.06.94zm-11 1L8.5 8.5l.94-2.06 2.06-.94-2.06-.94L8.5 2.5l-.94 2.06-2.06.94zm10 10l.94 2.06.94-2.06 2.06-.94-2.06-.94-.94-2.06-.94 2.06-2.06.94z\"/><path d=\"M17.41 7.96l-1.37-1.37c-.4-.4-.92-.59-1.43-.59-.52 0-1.04.2-1.43.59L10.3 9.45l-7.72 7.72c-.78.78-.78 2.05 0 2.83L4 21.41c.39.39.9.59 1.41.59.51 0 1.02-.2 1.41-.59l7.78-7.78 2.81-2.81c.8-.78.8-2.07 0-2.86zM5.41 20L4 18.59l7.72-7.72 1.47 1.35L5.41 20z\"/>\n",
              "  </svg>\n",
              "      </button>\n",
              "      \n",
              "  <style>\n",
              "    .colab-df-container {\n",
              "      display:flex;\n",
              "      flex-wrap:wrap;\n",
              "      gap: 12px;\n",
              "    }\n",
              "\n",
              "    .colab-df-convert {\n",
              "      background-color: #E8F0FE;\n",
              "      border: none;\n",
              "      border-radius: 50%;\n",
              "      cursor: pointer;\n",
              "      display: none;\n",
              "      fill: #1967D2;\n",
              "      height: 32px;\n",
              "      padding: 0 0 0 0;\n",
              "      width: 32px;\n",
              "    }\n",
              "\n",
              "    .colab-df-convert:hover {\n",
              "      background-color: #E2EBFA;\n",
              "      box-shadow: 0px 1px 2px rgba(60, 64, 67, 0.3), 0px 1px 3px 1px rgba(60, 64, 67, 0.15);\n",
              "      fill: #174EA6;\n",
              "    }\n",
              "\n",
              "    [theme=dark] .colab-df-convert {\n",
              "      background-color: #3B4455;\n",
              "      fill: #D2E3FC;\n",
              "    }\n",
              "\n",
              "    [theme=dark] .colab-df-convert:hover {\n",
              "      background-color: #434B5C;\n",
              "      box-shadow: 0px 1px 3px 1px rgba(0, 0, 0, 0.15);\n",
              "      filter: drop-shadow(0px 1px 2px rgba(0, 0, 0, 0.3));\n",
              "      fill: #FFFFFF;\n",
              "    }\n",
              "  </style>\n",
              "\n",
              "      <script>\n",
              "        const buttonEl =\n",
              "          document.querySelector('#df-74abe0de-c761-49e3-8929-1ddb9b12fe63 button.colab-df-convert');\n",
              "        buttonEl.style.display =\n",
              "          google.colab.kernel.accessAllowed ? 'block' : 'none';\n",
              "\n",
              "        async function convertToInteractive(key) {\n",
              "          const element = document.querySelector('#df-74abe0de-c761-49e3-8929-1ddb9b12fe63');\n",
              "          const dataTable =\n",
              "            await google.colab.kernel.invokeFunction('convertToInteractive',\n",
              "                                                     [key], {});\n",
              "          if (!dataTable) return;\n",
              "\n",
              "          const docLinkHtml = 'Like what you see? Visit the ' +\n",
              "            '<a target=\"_blank\" href=https://colab.research.google.com/notebooks/data_table.ipynb>data table notebook</a>'\n",
              "            + ' to learn more about interactive tables.';\n",
              "          element.innerHTML = '';\n",
              "          dataTable['output_type'] = 'display_data';\n",
              "          await google.colab.output.renderOutput(dataTable, element);\n",
              "          const docLink = document.createElement('div');\n",
              "          docLink.innerHTML = docLinkHtml;\n",
              "          element.appendChild(docLink);\n",
              "        }\n",
              "      </script>\n",
              "    </div>\n",
              "  </div>\n",
              "  "
            ]
          },
          "metadata": {},
          "execution_count": 73
        }
      ]
    },
    {
      "cell_type": "code",
      "source": [
        "fred_data.tail()"
      ],
      "metadata": {
        "colab": {
          "base_uri": "https://localhost:8080/",
          "height": 238
        },
        "id": "uJEROLgyIIUY",
        "outputId": "c4805f78-ae0a-4788-e2e1-83f548c1b774"
      },
      "execution_count": 71,
      "outputs": [
        {
          "output_type": "execute_result",
          "data": {
            "text/plain": [
              "            Recession      Rate  Yield_Curve  Employment       CPI  \\\n",
              "DATE                                                                 \n",
              "2021-04-01        0.0  0.068242     1.416562    0.085230  0.048132   \n",
              "2021-07-01        0.0  0.090000     1.099063    0.045625  0.052905   \n",
              "2021-10-01        0.0  0.079457     1.001613    0.043307  0.067213   \n",
              "2022-01-01        0.0  0.121444     0.486613    0.046114  0.080004   \n",
              "2022-04-01        0.0  0.766813     0.212097    0.044093  0.085806   \n",
              "\n",
              "            House_Prices  \n",
              "DATE                      \n",
              "2021-04-01      0.124167  \n",
              "2021-07-01      0.166476  \n",
              "2021-10-01      0.180276  \n",
              "2022-01-01      0.194969  \n",
              "2022-04-01      0.208776  "
            ],
            "text/html": [
              "\n",
              "  <div id=\"df-26992124-471a-4d50-8fd8-cb844754cbe2\">\n",
              "    <div class=\"colab-df-container\">\n",
              "      <div>\n",
              "<style scoped>\n",
              "    .dataframe tbody tr th:only-of-type {\n",
              "        vertical-align: middle;\n",
              "    }\n",
              "\n",
              "    .dataframe tbody tr th {\n",
              "        vertical-align: top;\n",
              "    }\n",
              "\n",
              "    .dataframe thead th {\n",
              "        text-align: right;\n",
              "    }\n",
              "</style>\n",
              "<table border=\"1\" class=\"dataframe\">\n",
              "  <thead>\n",
              "    <tr style=\"text-align: right;\">\n",
              "      <th></th>\n",
              "      <th>Recession</th>\n",
              "      <th>Rate</th>\n",
              "      <th>Yield_Curve</th>\n",
              "      <th>Employment</th>\n",
              "      <th>CPI</th>\n",
              "      <th>House_Prices</th>\n",
              "    </tr>\n",
              "    <tr>\n",
              "      <th>DATE</th>\n",
              "      <th></th>\n",
              "      <th></th>\n",
              "      <th></th>\n",
              "      <th></th>\n",
              "      <th></th>\n",
              "      <th></th>\n",
              "    </tr>\n",
              "  </thead>\n",
              "  <tbody>\n",
              "    <tr>\n",
              "      <th>2021-04-01</th>\n",
              "      <td>0.0</td>\n",
              "      <td>0.068242</td>\n",
              "      <td>1.416562</td>\n",
              "      <td>0.085230</td>\n",
              "      <td>0.048132</td>\n",
              "      <td>0.124167</td>\n",
              "    </tr>\n",
              "    <tr>\n",
              "      <th>2021-07-01</th>\n",
              "      <td>0.0</td>\n",
              "      <td>0.090000</td>\n",
              "      <td>1.099063</td>\n",
              "      <td>0.045625</td>\n",
              "      <td>0.052905</td>\n",
              "      <td>0.166476</td>\n",
              "    </tr>\n",
              "    <tr>\n",
              "      <th>2021-10-01</th>\n",
              "      <td>0.0</td>\n",
              "      <td>0.079457</td>\n",
              "      <td>1.001613</td>\n",
              "      <td>0.043307</td>\n",
              "      <td>0.067213</td>\n",
              "      <td>0.180276</td>\n",
              "    </tr>\n",
              "    <tr>\n",
              "      <th>2022-01-01</th>\n",
              "      <td>0.0</td>\n",
              "      <td>0.121444</td>\n",
              "      <td>0.486613</td>\n",
              "      <td>0.046114</td>\n",
              "      <td>0.080004</td>\n",
              "      <td>0.194969</td>\n",
              "    </tr>\n",
              "    <tr>\n",
              "      <th>2022-04-01</th>\n",
              "      <td>0.0</td>\n",
              "      <td>0.766813</td>\n",
              "      <td>0.212097</td>\n",
              "      <td>0.044093</td>\n",
              "      <td>0.085806</td>\n",
              "      <td>0.208776</td>\n",
              "    </tr>\n",
              "  </tbody>\n",
              "</table>\n",
              "</div>\n",
              "      <button class=\"colab-df-convert\" onclick=\"convertToInteractive('df-26992124-471a-4d50-8fd8-cb844754cbe2')\"\n",
              "              title=\"Convert this dataframe to an interactive table.\"\n",
              "              style=\"display:none;\">\n",
              "        \n",
              "  <svg xmlns=\"http://www.w3.org/2000/svg\" height=\"24px\"viewBox=\"0 0 24 24\"\n",
              "       width=\"24px\">\n",
              "    <path d=\"M0 0h24v24H0V0z\" fill=\"none\"/>\n",
              "    <path d=\"M18.56 5.44l.94 2.06.94-2.06 2.06-.94-2.06-.94-.94-2.06-.94 2.06-2.06.94zm-11 1L8.5 8.5l.94-2.06 2.06-.94-2.06-.94L8.5 2.5l-.94 2.06-2.06.94zm10 10l.94 2.06.94-2.06 2.06-.94-2.06-.94-.94-2.06-.94 2.06-2.06.94z\"/><path d=\"M17.41 7.96l-1.37-1.37c-.4-.4-.92-.59-1.43-.59-.52 0-1.04.2-1.43.59L10.3 9.45l-7.72 7.72c-.78.78-.78 2.05 0 2.83L4 21.41c.39.39.9.59 1.41.59.51 0 1.02-.2 1.41-.59l7.78-7.78 2.81-2.81c.8-.78.8-2.07 0-2.86zM5.41 20L4 18.59l7.72-7.72 1.47 1.35L5.41 20z\"/>\n",
              "  </svg>\n",
              "      </button>\n",
              "      \n",
              "  <style>\n",
              "    .colab-df-container {\n",
              "      display:flex;\n",
              "      flex-wrap:wrap;\n",
              "      gap: 12px;\n",
              "    }\n",
              "\n",
              "    .colab-df-convert {\n",
              "      background-color: #E8F0FE;\n",
              "      border: none;\n",
              "      border-radius: 50%;\n",
              "      cursor: pointer;\n",
              "      display: none;\n",
              "      fill: #1967D2;\n",
              "      height: 32px;\n",
              "      padding: 0 0 0 0;\n",
              "      width: 32px;\n",
              "    }\n",
              "\n",
              "    .colab-df-convert:hover {\n",
              "      background-color: #E2EBFA;\n",
              "      box-shadow: 0px 1px 2px rgba(60, 64, 67, 0.3), 0px 1px 3px 1px rgba(60, 64, 67, 0.15);\n",
              "      fill: #174EA6;\n",
              "    }\n",
              "\n",
              "    [theme=dark] .colab-df-convert {\n",
              "      background-color: #3B4455;\n",
              "      fill: #D2E3FC;\n",
              "    }\n",
              "\n",
              "    [theme=dark] .colab-df-convert:hover {\n",
              "      background-color: #434B5C;\n",
              "      box-shadow: 0px 1px 3px 1px rgba(0, 0, 0, 0.15);\n",
              "      filter: drop-shadow(0px 1px 2px rgba(0, 0, 0, 0.3));\n",
              "      fill: #FFFFFF;\n",
              "    }\n",
              "  </style>\n",
              "\n",
              "      <script>\n",
              "        const buttonEl =\n",
              "          document.querySelector('#df-26992124-471a-4d50-8fd8-cb844754cbe2 button.colab-df-convert');\n",
              "        buttonEl.style.display =\n",
              "          google.colab.kernel.accessAllowed ? 'block' : 'none';\n",
              "\n",
              "        async function convertToInteractive(key) {\n",
              "          const element = document.querySelector('#df-26992124-471a-4d50-8fd8-cb844754cbe2');\n",
              "          const dataTable =\n",
              "            await google.colab.kernel.invokeFunction('convertToInteractive',\n",
              "                                                     [key], {});\n",
              "          if (!dataTable) return;\n",
              "\n",
              "          const docLinkHtml = 'Like what you see? Visit the ' +\n",
              "            '<a target=\"_blank\" href=https://colab.research.google.com/notebooks/data_table.ipynb>data table notebook</a>'\n",
              "            + ' to learn more about interactive tables.';\n",
              "          element.innerHTML = '';\n",
              "          dataTable['output_type'] = 'display_data';\n",
              "          await google.colab.output.renderOutput(dataTable, element);\n",
              "          const docLink = document.createElement('div');\n",
              "          docLink.innerHTML = docLinkHtml;\n",
              "          element.appendChild(docLink);\n",
              "        }\n",
              "      </script>\n",
              "    </div>\n",
              "  </div>\n",
              "  "
            ]
          },
          "metadata": {},
          "execution_count": 71
        }
      ]
    },
    {
      "cell_type": "markdown",
      "source": [
        "We can create recession bands to inlay our data on visually:"
      ],
      "metadata": {
        "id": "XxZIuE0kNb2_"
      }
    },
    {
      "cell_type": "code",
      "source": [
        "def get_recession_data():\n",
        "    recession = (\n",
        "        web.DataReader([\"USRECQ\"], \"fred\", start, end)\n",
        "        .rename(columns=dict(USRECQ=\"recession\"))\n",
        "        [\"recession\"]\n",
        "    )\n",
        "\n",
        "    # extract start and end date for each recession\n",
        "    start_dates = recession.loc[recession.diff() > 0].index.tolist()\n",
        "    if recession.iloc[0] > 0:\n",
        "        start_dates = [recession.index[0]] + start_dates\n",
        "\n",
        "    end_dates = recession.loc[recession.diff() < 0].index.tolist()\n",
        "\n",
        "    if (len(start_dates) != len(end_dates)) and (len(start_dates) != len(end_dates) + 1):\n",
        "        raise ValueError(\"Need to have same number of start/end dates!\")\n",
        "\n",
        "    return recession, start_dates, end_dates\n",
        "\n",
        "recession, start_dates, end_dates = get_recession_data()"
      ],
      "metadata": {
        "id": "FgqiD15mMHYZ"
      },
      "execution_count": 74,
      "outputs": []
    },
    {
      "cell_type": "code",
      "source": [
        "def add_recession_bands(ax):\n",
        "    for s, e in zip(start_dates, end_dates):\n",
        "        ax.axvspan(s, e, color=\"grey\", alpha=0.2)\n",
        "\n",
        "axs = fred_data.plot(subplots=True, figsize=(8, 6), layout=(3, 2), legend=False)\n",
        "\n",
        "for i, ax in enumerate(axs.flatten()):\n",
        "    add_recession_bands(ax)\n",
        "    ax.set_title(list(fred_data)[i])\n",
        "\n",
        "fig = axs[0, 0].get_figure()\n",
        "fig.tight_layout();"
      ],
      "metadata": {
        "colab": {
          "base_uri": "https://localhost:8080/",
          "height": 441
        },
        "id": "i-JPKRVxNZQL",
        "outputId": "13e25d6c-e14c-4f46-db05-76464111f0c2"
      },
      "execution_count": 75,
      "outputs": [
        {
          "output_type": "display_data",
          "data": {
            "text/plain": [
              "<Figure size 576x432 with 6 Axes>"
            ],
            "image/png": "[encoded data removed]"
          },
          "metadata": {
            "needs_background": "light"
          }
        }
      ]
    },
    {
      "cell_type": "markdown",
      "source": [
        "Regressing Recessions against the Yield Curve:"
      ],
      "metadata": {
        "id": "DTesj4LAee9m"
      }
    },
    {
      "cell_type": "code",
      "source": [
        "plt.scatter(fred_data[\"Recession\"],fred_data[\"Yield_Curve\"], color='red')"
      ],
      "metadata": {
        "colab": {
          "base_uri": "https://localhost:8080/",
          "height": 286
        },
        "id": "m7vJO67VZ4BW",
        "outputId": "287ba73b-f961-42dc-889a-7dc7d85b875b"
      },
      "execution_count": 19,
      "outputs": [
        {
          "output_type": "execute_result",
          "data": {
            "text/plain": [
              "<matplotlib.collections.PathCollection at 0x7f16a49dcb90>"
            ]
          },
          "metadata": {},
          "execution_count": 19
        },
        {
          "output_type": "display_data",
          "data": {
            "text/plain": [
              "<Figure size 432x288 with 1 Axes>"
            ],
            "image/png": "[encoded data removed]"
          },
          "metadata": {
            "needs_background": "light"
          }
        }
      ]
    },
    {
      "cell_type": "code",
      "source": [
        "sns.lmplot(\n",
        "    data=fred_data, x=\"Recession\", y=\"Yield_Curve\", height=6,\n",
        "    scatter_kws=dict(s=1.5, alpha=0.35)\n",
        ");"
      ],
      "metadata": {
        "colab": {
          "base_uri": "https://localhost:8080/",
          "height": 441
        },
        "id": "m7544dieaZWg",
        "outputId": "08c91f46-cc17-4d36-b48b-c9d5037fefc4"
      },
      "execution_count": 20,
      "outputs": [
        {
          "output_type": "display_data",
          "data": {
            "text/plain": [
              "<Figure size 432x432 with 1 Axes>"
            ],
            "image/png": "[encoded data removed]"
          },
          "metadata": {
            "needs_background": "light"
          }
        }
      ]
    },
    {
      "cell_type": "code",
      "source": [
        "Y = fred_data[\"Recession\"].values.reshape(-1,1)\n",
        "X = fred_data[\"Yield_Curve\"].values.reshape(-1,1)\n",
        "\n",
        "regr = linear_model.LinearRegression()\n",
        "regr.fit(X,Y)"
      ],
      "metadata": {
        "colab": {
          "base_uri": "https://localhost:8080/"
        },
        "id": "jBy3I_8iWExr",
        "outputId": "e44cf0fe-b654-484b-97bb-65cad20b509a"
      },
      "execution_count": 61,
      "outputs": [
        {
          "output_type": "execute_result",
          "data": {
            "text/plain": [
              "LinearRegression()"
            ]
          },
          "metadata": {},
          "execution_count": 61
        }
      ]
    },
    {
      "cell_type": "code",
      "source": [
        "print(regr.intercept_)"
      ],
      "metadata": {
        "colab": {
          "base_uri": "https://localhost:8080/"
        },
        "id": "nHc6WyOVbP1g",
        "outputId": "73ccf265-4751-464c-c245-c440adacb39e"
      },
      "execution_count": 62,
      "outputs": [
        {
          "output_type": "stream",
          "name": "stdout",
          "text": [
            "[0.10192251]\n"
          ]
        }
      ]
    },
    {
      "cell_type": "code",
      "source": [
        "print(regr.coef_)"
      ],
      "metadata": {
        "colab": {
          "base_uri": "https://localhost:8080/"
        },
        "id": "XSKYgC89eE9m",
        "outputId": "9a0a8332-6aac-4564-89eb-87902e26d9ab"
      },
      "execution_count": 63,
      "outputs": [
        {
          "output_type": "stream",
          "name": "stdout",
          "text": [
            "[[0.00669128]]\n"
          ]
        }
      ]
    },
    {
      "cell_type": "code",
      "source": [
        "import statsmodels.api as sm\n",
        "\n",
        "model = sm.OLS(fred_data[\"Recession\"].values.reshape(-1,1),fred_data[\"Yield_Curve\"].values.reshape(-1,1)).fit()\n",
        "predications = model.predict(fred_data[\"Yield_Curve\"].values.reshape(-1,1))\n",
        "\n",
        "print_model = model.summary()\n",
        "print(print_model)"
      ],
      "metadata": {
        "colab": {
          "base_uri": "https://localhost:8080/"
        },
        "id": "D7RtmL9e7OL7",
        "outputId": "8667ec2a-8422-43c4-e8fd-1651a043c501"
      },
      "execution_count": 60,
      "outputs": [
        {
          "output_type": "stream",
          "name": "stdout",
          "text": [
            "                                 OLS Regression Results                                \n",
            "=======================================================================================\n",
            "Dep. Variable:                      y   R-squared (uncentered):                   0.063\n",
            "Model:                            OLS   Adj. R-squared (uncentered):              0.058\n",
            "Method:                 Least Squares   F-statistic:                              12.32\n",
            "Date:                Mon, 28 Nov 2022   Prob (F-statistic):                    0.000565\n",
            "Time:                        01:59:42   Log-Likelihood:                         -50.733\n",
            "No. Observations:                 185   AIC:                                      103.5\n",
            "Df Residuals:                     184   BIC:                                      106.7\n",
            "Df Model:                           1                                                  \n",
            "Covariance Type:            nonrobust                                                  \n",
            "==============================================================================\n",
            "                 coef    std err          t      P>|t|      [0.025      0.975]\n",
            "------------------------------------------------------------------------------\n",
            "x1             0.0645      0.018      3.509      0.001       0.028       0.101\n",
            "==============================================================================\n",
            "Omnibus:                       98.959   Durbin-Watson:                   0.607\n",
            "Prob(Omnibus):                  0.000   Jarque-Bera (JB):              302.088\n",
            "Skew:                           2.391   Prob(JB):                     2.53e-66\n",
            "Kurtosis:                       7.040   Cond. No.                         1.00\n",
            "==============================================================================\n",
            "\n",
            "Notes:\n",
            "[1] R² is computed without centering (uncentered) since the model does not contain a constant.\n",
            "[2] Standard Errors assume that the covariance matrix of the errors is correctly specified.\n"
          ]
        }
      ]
    },
    {
      "cell_type": "markdown",
      "source": [
        "Using MLR with all of the variables against the binary variable Recession:"
      ],
      "metadata": {
        "id": "O2ZlSmKnelQa"
      }
    },
    {
      "cell_type": "code",
      "source": [
        "Y2 = fred_data[\"Recession\"].values.reshape(-1,1)\n",
        "X2 = fred_data[[\"Yield_Curve\", \"House_Prices\", \"Rate\", \"Employment\", \"CPI\"]]\n",
        "\n",
        "model2 = sm.OLS(Y2,X2).fit()\n",
        "predications = model.predict(X)\n",
        "\n",
        "print_model2 = model2.summary()\n",
        "print(print_model2)"
      ],
      "metadata": {
        "colab": {
          "base_uri": "https://localhost:8080/"
        },
        "id": "L8W3SJG7eTM8",
        "outputId": "e14e5eae-0086-4d78-80fb-3ce77d934be6"
      },
      "execution_count": 64,
      "outputs": [
        {
          "output_type": "stream",
          "name": "stdout",
          "text": [
            "                                 OLS Regression Results                                \n",
            "=======================================================================================\n",
            "Dep. Variable:                      y   R-squared (uncentered):                   0.367\n",
            "Model:                            OLS   Adj. R-squared (uncentered):              0.349\n",
            "Method:                 Least Squares   F-statistic:                              20.87\n",
            "Date:                Mon, 28 Nov 2022   Prob (F-statistic):                    2.01e-16\n",
            "Time:                        02:03:28   Log-Likelihood:                         -14.430\n",
            "No. Observations:                 185   AIC:                                      38.86\n",
            "Df Residuals:                     180   BIC:                                      54.96\n",
            "Df Model:                           5                                                  \n",
            "Covariance Type:            nonrobust                                                  \n",
            "================================================================================\n",
            "                   coef    std err          t      P>|t|      [0.025      0.975]\n",
            "--------------------------------------------------------------------------------\n",
            "Yield_Curve      0.0466      0.017      2.797      0.006       0.014       0.079\n",
            "House_Prices    -1.1445      0.481     -2.379      0.018      -2.094      -0.195\n",
            "Rate             0.0059      0.007      0.842      0.401      -0.008       0.020\n",
            "Employment      -5.6321      0.968     -5.816      0.000      -7.543      -3.721\n",
            "CPI              4.5615      1.115      4.093      0.000       2.362       6.761\n",
            "==============================================================================\n",
            "Omnibus:                       54.191   Durbin-Watson:                   0.925\n",
            "Prob(Omnibus):                  0.000   Jarque-Bera (JB):              115.551\n",
            "Skew:                           1.347   Prob(JB):                     8.10e-26\n",
            "Kurtosis:                       5.781   Cond. No.                         362.\n",
            "==============================================================================\n",
            "\n",
            "Notes:\n",
            "[1] R² is computed without centering (uncentered) since the model does not contain a constant.\n",
            "[2] Standard Errors assume that the covariance matrix of the errors is correctly specified.\n"
          ]
        }
      ]
    },
    {
      "cell_type": "markdown",
      "source": [
        "We can use the Markov Switching Model from Hamilton (1989) to show recession probabilities against the data:"
      ],
      "metadata": {
        "id": "nw5wkH-Wizc6"
      }
    },
    {
      "cell_type": "code",
      "source": [
        "fred_data.plot(title='Data', figsize=(12,3))"
      ],
      "metadata": {
        "colab": {
          "base_uri": "https://localhost:8080/",
          "height": 258
        },
        "id": "eiu7wR_cjsSZ",
        "outputId": "4864d3d7-5dbb-4211-d0eb-75bef04403f5"
      },
      "execution_count": 76,
      "outputs": [
        {
          "output_type": "execute_result",
          "data": {
            "text/plain": [
              "<matplotlib.axes._subplots.AxesSubplot at 0x7f16a2c5ded0>"
            ]
          },
          "metadata": {},
          "execution_count": 76
        },
        {
          "output_type": "display_data",
          "data": {
            "text/plain": [
              "<Figure size 864x216 with 1 Axes>"
            ],
            "image/png": "[encoded data removed]"
          },
          "metadata": {
            "needs_background": "light"
          }
        }
      ]
    },
    {
      "cell_type": "code",
      "source": [
        "fred_data['Recession'].plot(title='Recession', figsize=(12,3))"
      ],
      "metadata": {
        "colab": {
          "base_uri": "https://localhost:8080/",
          "height": 258
        },
        "id": "hciDqTsvkN_c",
        "outputId": "dd338a34-d673-4af8-e25f-5209e2322370"
      },
      "execution_count": 55,
      "outputs": [
        {
          "output_type": "execute_result",
          "data": {
            "text/plain": [
              "<matplotlib.axes._subplots.AxesSubplot at 0x7f16a3457210>"
            ]
          },
          "metadata": {},
          "execution_count": 55
        },
        {
          "output_type": "display_data",
          "data": {
            "text/plain": [
              "<Figure size 864x216 with 1 Axes>"
            ],
            "image/png": "[encoded data removed]"
          },
          "metadata": {
            "needs_background": "light"
          }
        }
      ]
    },
    {
      "cell_type": "code",
      "source": [
        "def multiply(df):\n",
        "    return (df*100)\n",
        "\n",
        "fred_load_c =  (\n",
        "    web.DataReader([\"GNPC96\"], \"fred\", start, end)\n",
        "    .resample(\"QS\")\n",
        "    .mean()\n",
        "    .pipe(pct_change_yearly)\n",
        "    .pipe(multiply)\n",
        "    .dropna()\n",
        ")\n",
        "\n",
        "GNP = (\n",
        "    fred_load_c.rename(columns=dict(\n",
        "            GNPC96 = \"GNP\"))\n",
        ")\n"
      ],
      "metadata": {
        "id": "-5DCmqH07UwW"
      },
      "execution_count": 102,
      "outputs": []
    },
    {
      "cell_type": "code",
      "source": [
        "GNP.plot(title='Growth rate of real GNP', figsize=(12,3))"
      ],
      "metadata": {
        "colab": {
          "base_uri": "https://localhost:8080/",
          "height": 258
        },
        "id": "QfpKrGTx8Fxr",
        "outputId": "26690c2c-ca6d-40dd-e6d6-7dccb796cafa"
      },
      "execution_count": 103,
      "outputs": [
        {
          "output_type": "execute_result",
          "data": {
            "text/plain": [
              "<matplotlib.axes._subplots.AxesSubplot at 0x7f16a2471050>"
            ]
          },
          "metadata": {},
          "execution_count": 103
        },
        {
          "output_type": "display_data",
          "data": {
            "text/plain": [
              "<Figure size 864x216 with 1 Axes>"
            ],
            "image/png": "[encoded data removed]"
          },
          "metadata": {
            "needs_background": "light"
          }
        }
      ]
    },
    {
      "cell_type": "code",
      "source": [
        "mod_hamilton = sm.tsa.MarkovAutoregression(GNP['GNP'], k_regimes=2, order=4, switching_ar=False)\n",
        "res_hamilton = mod_hamilton.fit()"
      ],
      "metadata": {
        "id": "gVp19ylEkMB6"
      },
      "execution_count": 118,
      "outputs": []
    },
    {
      "cell_type": "code",
      "source": [
        "res_hamilton.summary()"
      ],
      "metadata": {
        "colab": {
          "base_uri": "https://localhost:8080/",
          "height": 610
        },
        "id": "Ylj-5dEDlYpa",
        "outputId": "70f34da9-1842-4c88-9dd6-8af7c7f7c894"
      },
      "execution_count": 121,
      "outputs": [
        {
          "output_type": "execute_result",
          "data": {
            "text/plain": [
              "<class 'statsmodels.iolib.summary.Summary'>\n",
              "\"\"\"\n",
              "                         Markov Switching Model Results                         \n",
              "================================================================================\n",
              "Dep. Variable:                      GNP   No. Observations:                  186\n",
              "Model:             MarkovAutoregression   Log Likelihood                -337.745\n",
              "Date:                  Mon, 28 Nov 2022   AIC                            693.490\n",
              "Time:                          04:09:08   BIC                            722.521\n",
              "Sample:                      01-01-1975   HQIC                           705.254\n",
              "                           - 04-01-2022                                         \n",
              "Covariance Type:                 approx                                         \n",
              "                             Regime 0 parameters                              \n",
              "==============================================================================\n",
              "                 coef    std err          z      P>|z|      [0.025      0.975]\n",
              "------------------------------------------------------------------------------\n",
              "const          2.7062      0.360      7.522      0.000       2.001       3.411\n",
              "                             Regime 1 parameters                              \n",
              "==============================================================================\n",
              "                 coef    std err          z      P>|z|      [0.025      0.975]\n",
              "------------------------------------------------------------------------------\n",
              "const          2.7063      0.434      6.235      0.000       1.856       3.557\n",
              "                           Non-switching parameters                           \n",
              "==============================================================================\n",
              "                 coef    std err          z      P>|z|      [0.025      0.975]\n",
              "------------------------------------------------------------------------------\n",
              "sigma2         2.2117      0.229      9.644      0.000       1.762       2.661\n",
              "ar.L1          0.7119      0.071     10.029      0.000       0.573       0.851\n",
              "ar.L2          0.1272      0.088      1.445      0.149      -0.045       0.300\n",
              "ar.L3         -0.0180      0.088     -0.203      0.839      -0.191       0.155\n",
              "ar.L4         -0.2520      0.070     -3.587      0.000      -0.390      -0.114\n",
              "                         Regime transition parameters                         \n",
              "==============================================================================\n",
              "                 coef    std err          z      P>|z|      [0.025      0.975]\n",
              "------------------------------------------------------------------------------\n",
              "p[0->0]        0.4992   5936.728   8.41e-05      1.000   -1.16e+04    1.16e+04\n",
              "p[1->0]        0.4479        nan        nan        nan         nan         nan\n",
              "==============================================================================\n",
              "\n",
              "Warnings:\n",
              "[1] Covariance matrix calculated using numerical (complex-step) differentiation.\n",
              "\"\"\""
            ],
            "text/html": [
              "<table class=\"simpletable\">\n",
              "<caption>Markov Switching Model Results</caption>\n",
              "<tr>\n",
              "  <th>Dep. Variable:</th>            <td>GNP</td>         <th>  No. Observations:  </th>    <td>186</td>  \n",
              "</tr>\n",
              "<tr>\n",
              "  <th>Model:</th>           <td>MarkovAutoregression</td> <th>  Log Likelihood     </th> <td>-337.745</td>\n",
              "</tr>\n",
              "<tr>\n",
              "  <th>Date:</th>              <td>Mon, 28 Nov 2022</td>   <th>  AIC                </th>  <td>693.490</td>\n",
              "</tr>\n",
              "<tr>\n",
              "  <th>Time:</th>                  <td>04:09:08</td>       <th>  BIC                </th>  <td>722.521</td>\n",
              "</tr>\n",
              "<tr>\n",
              "  <th>Sample:</th>               <td>01-01-1975</td>      <th>  HQIC               </th>  <td>705.254</td>\n",
              "</tr>\n",
              "<tr>\n",
              "  <th></th>                     <td>- 04-01-2022</td>     <th>                     </th>     <td> </td>   \n",
              "</tr>\n",
              "<tr>\n",
              "  <th>Covariance Type:</th>        <td>approx</td>        <th>                     </th>     <td> </td>   \n",
              "</tr>\n",
              "</table>\n",
              "<table class=\"simpletable\">\n",
              "<caption>Regime 0 parameters</caption>\n",
              "<tr>\n",
              "    <td></td>       <th>coef</th>     <th>std err</th>      <th>z</th>      <th>P>|z|</th>  <th>[0.025</th>    <th>0.975]</th>  \n",
              "</tr>\n",
              "<tr>\n",
              "  <th>const</th> <td>    2.7062</td> <td>    0.360</td> <td>    7.522</td> <td> 0.000</td> <td>    2.001</td> <td>    3.411</td>\n",
              "</tr>\n",
              "</table>\n",
              "<table class=\"simpletable\">\n",
              "<caption>Regime 1 parameters</caption>\n",
              "<tr>\n",
              "    <td></td>       <th>coef</th>     <th>std err</th>      <th>z</th>      <th>P>|z|</th>  <th>[0.025</th>    <th>0.975]</th>  \n",
              "</tr>\n",
              "<tr>\n",
              "  <th>const</th> <td>    2.7063</td> <td>    0.434</td> <td>    6.235</td> <td> 0.000</td> <td>    1.856</td> <td>    3.557</td>\n",
              "</tr>\n",
              "</table>\n",
              "<table class=\"simpletable\">\n",
              "<caption>Non-switching parameters</caption>\n",
              "<tr>\n",
              "     <td></td>       <th>coef</th>     <th>std err</th>      <th>z</th>      <th>P>|z|</th>  <th>[0.025</th>    <th>0.975]</th>  \n",
              "</tr>\n",
              "<tr>\n",
              "  <th>sigma2</th> <td>    2.2117</td> <td>    0.229</td> <td>    9.644</td> <td> 0.000</td> <td>    1.762</td> <td>    2.661</td>\n",
              "</tr>\n",
              "<tr>\n",
              "  <th>ar.L1</th>  <td>    0.7119</td> <td>    0.071</td> <td>   10.029</td> <td> 0.000</td> <td>    0.573</td> <td>    0.851</td>\n",
              "</tr>\n",
              "<tr>\n",
              "  <th>ar.L2</th>  <td>    0.1272</td> <td>    0.088</td> <td>    1.445</td> <td> 0.149</td> <td>   -0.045</td> <td>    0.300</td>\n",
              "</tr>\n",
              "<tr>\n",
              "  <th>ar.L3</th>  <td>   -0.0180</td> <td>    0.088</td> <td>   -0.203</td> <td> 0.839</td> <td>   -0.191</td> <td>    0.155</td>\n",
              "</tr>\n",
              "<tr>\n",
              "  <th>ar.L4</th>  <td>   -0.2520</td> <td>    0.070</td> <td>   -3.587</td> <td> 0.000</td> <td>   -0.390</td> <td>   -0.114</td>\n",
              "</tr>\n",
              "</table>\n",
              "<table class=\"simpletable\">\n",
              "<caption>Regime transition parameters</caption>\n",
              "<tr>\n",
              "     <td></td>        <th>coef</th>     <th>std err</th>      <th>z</th>      <th>P>|z|</th>  <th>[0.025</th>    <th>0.975]</th>  \n",
              "</tr>\n",
              "<tr>\n",
              "  <th>p[0->0]</th> <td>    0.4992</td> <td> 5936.728</td> <td> 8.41e-05</td> <td> 1.000</td> <td>-1.16e+04</td> <td> 1.16e+04</td>\n",
              "</tr>\n",
              "<tr>\n",
              "  <th>p[1->0]</th> <td>    0.4479</td> <td>      nan</td> <td>      nan</td> <td>   nan</td> <td>      nan</td> <td>      nan</td>\n",
              "</tr>\n",
              "</table><br/><br/>Warnings:<br/>[1] Covariance matrix calculated using numerical (complex-step) differentiation."
            ]
          },
          "metadata": {},
          "execution_count": 121
        }
      ]
    },
    {
      "cell_type": "code",
      "source": [
        "fig, axes = plt.subplots(2, figsize=(7,7))\n",
        "ax = axes[0]\n",
        "ax.plot(res_hamilton.filtered_marginal_probabilities[0])\n",
        "ax.fill_between(fred_data['Recession'].index, 0, 1, where=fred_data['Recession'].values, color='k', alpha=0.1)\n",
        "ax.set_xlim(GNP['GNP'].index[4], GNP['GNP'].index[-1])\n",
        "ax.set(title='Filtered probability of recession')\n",
        "\n",
        "ax = axes[1]\n",
        "ax.plot(res_hamilton.smoothed_marginal_probabilities[0])\n",
        "ax.fill_between(fred_data['Recession'].index, 0, 1, where=fred_data['Recession'].values, color='k', alpha=0.1)\n",
        "ax.set_xlim(GNP['GNP'].index[4], GNP['GNP'].index[-1])\n",
        "ax.set(title='Smoothed probability of recession')\n",
        "\n",
        "fig.tight_layout()"
      ],
      "metadata": {
        "colab": {
          "base_uri": "https://localhost:8080/",
          "height": 513
        },
        "id": "V-ZSs31TjgT8",
        "outputId": "ffb9f442-9c1b-45f4-891d-430868e5bf65"
      },
      "execution_count": 131,
      "outputs": [
        {
          "output_type": "display_data",
          "data": {
            "text/plain": [
              "<Figure size 504x504 with 2 Axes>"
            ],
            "image/png": "[encoded data removed]"
          },
          "metadata": {
            "needs_background": "light"
          }
        }
      ]
    },
    {
      "cell_type": "code",
      "source": [
        "print(res_hamilton.expected_durations)"
      ],
      "metadata": {
        "colab": {
          "base_uri": "https://localhost:8080/"
        },
        "id": "MPTWWrHeb8-U",
        "outputId": "d4143e44-f70f-4cb0-b920-551a10622aa3"
      },
      "execution_count": 125,
      "outputs": [
        {
          "output_type": "stream",
          "name": "stdout",
          "text": [
            "[1.99669822 2.23242025]\n"
          ]
        }
      ]
    },
    {
      "cell_type": "code",
      "source": [
        "res_hamilton.filtered_marginal_probabilities.tail()"
      ],
      "metadata": {
        "colab": {
          "base_uri": "https://localhost:8080/",
          "height": 238
        },
        "id": "gWNTrqktnYBs",
        "outputId": "1afb1d57-e28c-4290-b8c1-8aaa33886ca7"
      },
      "execution_count": 127,
      "outputs": [
        {
          "output_type": "execute_result",
          "data": {
            "text/plain": [
              "                   0         1\n",
              "DATE                          \n",
              "2021-04-01  0.472042  0.527958\n",
              "2021-07-01  0.472188  0.527812\n",
              "2021-10-01  0.472143  0.527857\n",
              "2022-01-01  0.472151  0.527849\n",
              "2022-04-01  0.472124  0.527876"
            ],
            "text/html": [
              "\n",
              "  <div id=\"df-baf4f7a7-7afb-4c34-96f2-b2b22d73927c\">\n",
              "    <div class=\"colab-df-container\">\n",
              "      <div>\n",
              "<style scoped>\n",
              "    .dataframe tbody tr th:only-of-type {\n",
              "        vertical-align: middle;\n",
              "    }\n",
              "\n",
              "    .dataframe tbody tr th {\n",
              "        vertical-align: top;\n",
              "    }\n",
              "\n",
              "    .dataframe thead th {\n",
              "        text-align: right;\n",
              "    }\n",
              "</style>\n",
              "<table border=\"1\" class=\"dataframe\">\n",
              "  <thead>\n",
              "    <tr style=\"text-align: right;\">\n",
              "      <th></th>\n",
              "      <th>0</th>\n",
              "      <th>1</th>\n",
              "    </tr>\n",
              "    <tr>\n",
              "      <th>DATE</th>\n",
              "      <th></th>\n",
              "      <th></th>\n",
              "    </tr>\n",
              "  </thead>\n",
              "  <tbody>\n",
              "    <tr>\n",
              "      <th>2021-04-01</th>\n",
              "      <td>0.472042</td>\n",
              "      <td>0.527958</td>\n",
              "    </tr>\n",
              "    <tr>\n",
              "      <th>2021-07-01</th>\n",
              "      <td>0.472188</td>\n",
              "      <td>0.527812</td>\n",
              "    </tr>\n",
              "    <tr>\n",
              "      <th>2021-10-01</th>\n",
              "      <td>0.472143</td>\n",
              "      <td>0.527857</td>\n",
              "    </tr>\n",
              "    <tr>\n",
              "      <th>2022-01-01</th>\n",
              "      <td>0.472151</td>\n",
              "      <td>0.527849</td>\n",
              "    </tr>\n",
              "    <tr>\n",
              "      <th>2022-04-01</th>\n",
              "      <td>0.472124</td>\n",
              "      <td>0.527876</td>\n",
              "    </tr>\n",
              "  </tbody>\n",
              "</table>\n",
              "</div>\n",
              "      <button class=\"colab-df-convert\" onclick=\"convertToInteractive('df-baf4f7a7-7afb-4c34-96f2-b2b22d73927c')\"\n",
              "              title=\"Convert this dataframe to an interactive table.\"\n",
              "              style=\"display:none;\">\n",
              "        \n",
              "  <svg xmlns=\"http://www.w3.org/2000/svg\" height=\"24px\"viewBox=\"0 0 24 24\"\n",
              "       width=\"24px\">\n",
              "    <path d=\"M0 0h24v24H0V0z\" fill=\"none\"/>\n",
              "    <path d=\"M18.56 5.44l.94 2.06.94-2.06 2.06-.94-2.06-.94-.94-2.06-.94 2.06-2.06.94zm-11 1L8.5 8.5l.94-2.06 2.06-.94-2.06-.94L8.5 2.5l-.94 2.06-2.06.94zm10 10l.94 2.06.94-2.06 2.06-.94-2.06-.94-.94-2.06-.94 2.06-2.06.94z\"/><path d=\"M17.41 7.96l-1.37-1.37c-.4-.4-.92-.59-1.43-.59-.52 0-1.04.2-1.43.59L10.3 9.45l-7.72 7.72c-.78.78-.78 2.05 0 2.83L4 21.41c.39.39.9.59 1.41.59.51 0 1.02-.2 1.41-.59l7.78-7.78 2.81-2.81c.8-.78.8-2.07 0-2.86zM5.41 20L4 18.59l7.72-7.72 1.47 1.35L5.41 20z\"/>\n",
              "  </svg>\n",
              "      </button>\n",
              "      \n",
              "  <style>\n",
              "    .colab-df-container {\n",
              "      display:flex;\n",
              "      flex-wrap:wrap;\n",
              "      gap: 12px;\n",
              "    }\n",
              "\n",
              "    .colab-df-convert {\n",
              "      background-color: #E8F0FE;\n",
              "      border: none;\n",
              "      border-radius: 50%;\n",
              "      cursor: pointer;\n",
              "      display: none;\n",
              "      fill: #1967D2;\n",
              "      height: 32px;\n",
              "      padding: 0 0 0 0;\n",
              "      width: 32px;\n",
              "    }\n",
              "\n",
              "    .colab-df-convert:hover {\n",
              "      background-color: #E2EBFA;\n",
              "      box-shadow: 0px 1px 2px rgba(60, 64, 67, 0.3), 0px 1px 3px 1px rgba(60, 64, 67, 0.15);\n",
              "      fill: #174EA6;\n",
              "    }\n",
              "\n",
              "    [theme=dark] .colab-df-convert {\n",
              "      background-color: #3B4455;\n",
              "      fill: #D2E3FC;\n",
              "    }\n",
              "\n",
              "    [theme=dark] .colab-df-convert:hover {\n",
              "      background-color: #434B5C;\n",
              "      box-shadow: 0px 1px 3px 1px rgba(0, 0, 0, 0.15);\n",
              "      filter: drop-shadow(0px 1px 2px rgba(0, 0, 0, 0.3));\n",
              "      fill: #FFFFFF;\n",
              "    }\n",
              "  </style>\n",
              "\n",
              "      <script>\n",
              "        const buttonEl =\n",
              "          document.querySelector('#df-baf4f7a7-7afb-4c34-96f2-b2b22d73927c button.colab-df-convert');\n",
              "        buttonEl.style.display =\n",
              "          google.colab.kernel.accessAllowed ? 'block' : 'none';\n",
              "\n",
              "        async function convertToInteractive(key) {\n",
              "          const element = document.querySelector('#df-baf4f7a7-7afb-4c34-96f2-b2b22d73927c');\n",
              "          const dataTable =\n",
              "            await google.colab.kernel.invokeFunction('convertToInteractive',\n",
              "                                                     [key], {});\n",
              "          if (!dataTable) return;\n",
              "\n",
              "          const docLinkHtml = 'Like what you see? Visit the ' +\n",
              "            '<a target=\"_blank\" href=https://colab.research.google.com/notebooks/data_table.ipynb>data table notebook</a>'\n",
              "            + ' to learn more about interactive tables.';\n",
              "          element.innerHTML = '';\n",
              "          dataTable['output_type'] = 'display_data';\n",
              "          await google.colab.output.renderOutput(dataTable, element);\n",
              "          const docLink = document.createElement('div');\n",
              "          docLink.innerHTML = docLinkHtml;\n",
              "          element.appendChild(docLink);\n",
              "        }\n",
              "      </script>\n",
              "    </div>\n",
              "  </div>\n",
              "  "
            ]
          },
          "metadata": {},
          "execution_count": 127
        }
      ]
    },
    {
      "cell_type": "code",
      "source": [
        "res_hamilton.smoothed_marginal_probabilities.tail()"
      ],
      "metadata": {
        "colab": {
          "base_uri": "https://localhost:8080/",
          "height": 238
        },
        "id": "phkxAFRBnobS",
        "outputId": "7f43d4d6-3afe-48a1-abcc-af9a98602012"
      },
      "execution_count": 128,
      "outputs": [
        {
          "output_type": "execute_result",
          "data": {
            "text/plain": [
              "                   0         1\n",
              "DATE                          \n",
              "2021-04-01  0.471997  0.528003\n",
              "2021-07-01  0.472179  0.527821\n",
              "2021-10-01  0.472131  0.527869\n",
              "2022-01-01  0.472156  0.527844\n",
              "2022-04-01  0.472124  0.527876"
            ],
            "text/html": [
              "\n",
              "  <div id=\"df-647d67e4-aab2-4fe7-b479-f12a7215ff5e\">\n",
              "    <div class=\"colab-df-container\">\n",
              "      <div>\n",
              "<style scoped>\n",
              "    .dataframe tbody tr th:only-of-type {\n",
              "        vertical-align: middle;\n",
              "    }\n",
              "\n",
              "    .dataframe tbody tr th {\n",
              "        vertical-align: top;\n",
              "    }\n",
              "\n",
              "    .dataframe thead th {\n",
              "        text-align: right;\n",
              "    }\n",
              "</style>\n",
              "<table border=\"1\" class=\"dataframe\">\n",
              "  <thead>\n",
              "    <tr style=\"text-align: right;\">\n",
              "      <th></th>\n",
              "      <th>0</th>\n",
              "      <th>1</th>\n",
              "    </tr>\n",
              "    <tr>\n",
              "      <th>DATE</th>\n",
              "      <th></th>\n",
              "      <th></th>\n",
              "    </tr>\n",
              "  </thead>\n",
              "  <tbody>\n",
              "    <tr>\n",
              "      <th>2021-04-01</th>\n",
              "      <td>0.471997</td>\n",
              "      <td>0.528003</td>\n",
              "    </tr>\n",
              "    <tr>\n",
              "      <th>2021-07-01</th>\n",
              "      <td>0.472179</td>\n",
              "      <td>0.527821</td>\n",
              "    </tr>\n",
              "    <tr>\n",
              "      <th>2021-10-01</th>\n",
              "      <td>0.472131</td>\n",
              "      <td>0.527869</td>\n",
              "    </tr>\n",
              "    <tr>\n",
              "      <th>2022-01-01</th>\n",
              "      <td>0.472156</td>\n",
              "      <td>0.527844</td>\n",
              "    </tr>\n",
              "    <tr>\n",
              "      <th>2022-04-01</th>\n",
              "      <td>0.472124</td>\n",
              "      <td>0.527876</td>\n",
              "    </tr>\n",
              "  </tbody>\n",
              "</table>\n",
              "</div>\n",
              "      <button class=\"colab-df-convert\" onclick=\"convertToInteractive('df-647d67e4-aab2-4fe7-b479-f12a7215ff5e')\"\n",
              "              title=\"Convert this dataframe to an interactive table.\"\n",
              "              style=\"display:none;\">\n",
              "        \n",
              "  <svg xmlns=\"http://www.w3.org/2000/svg\" height=\"24px\"viewBox=\"0 0 24 24\"\n",
              "       width=\"24px\">\n",
              "    <path d=\"M0 0h24v24H0V0z\" fill=\"none\"/>\n",
              "    <path d=\"M18.56 5.44l.94 2.06.94-2.06 2.06-.94-2.06-.94-.94-2.06-.94 2.06-2.06.94zm-11 1L8.5 8.5l.94-2.06 2.06-.94-2.06-.94L8.5 2.5l-.94 2.06-2.06.94zm10 10l.94 2.06.94-2.06 2.06-.94-2.06-.94-.94-2.06-.94 2.06-2.06.94z\"/><path d=\"M17.41 7.96l-1.37-1.37c-.4-.4-.92-.59-1.43-.59-.52 0-1.04.2-1.43.59L10.3 9.45l-7.72 7.72c-.78.78-.78 2.05 0 2.83L4 21.41c.39.39.9.59 1.41.59.51 0 1.02-.2 1.41-.59l7.78-7.78 2.81-2.81c.8-.78.8-2.07 0-2.86zM5.41 20L4 18.59l7.72-7.72 1.47 1.35L5.41 20z\"/>\n",
              "  </svg>\n",
              "      </button>\n",
              "      \n",
              "  <style>\n",
              "    .colab-df-container {\n",
              "      display:flex;\n",
              "      flex-wrap:wrap;\n",
              "      gap: 12px;\n",
              "    }\n",
              "\n",
              "    .colab-df-convert {\n",
              "      background-color: #E8F0FE;\n",
              "      border: none;\n",
              "      border-radius: 50%;\n",
              "      cursor: pointer;\n",
              "      display: none;\n",
              "      fill: #1967D2;\n",
              "      height: 32px;\n",
              "      padding: 0 0 0 0;\n",
              "      width: 32px;\n",
              "    }\n",
              "\n",
              "    .colab-df-convert:hover {\n",
              "      background-color: #E2EBFA;\n",
              "      box-shadow: 0px 1px 2px rgba(60, 64, 67, 0.3), 0px 1px 3px 1px rgba(60, 64, 67, 0.15);\n",
              "      fill: #174EA6;\n",
              "    }\n",
              "\n",
              "    [theme=dark] .colab-df-convert {\n",
              "      background-color: #3B4455;\n",
              "      fill: #D2E3FC;\n",
              "    }\n",
              "\n",
              "    [theme=dark] .colab-df-convert:hover {\n",
              "      background-color: #434B5C;\n",
              "      box-shadow: 0px 1px 3px 1px rgba(0, 0, 0, 0.15);\n",
              "      filter: drop-shadow(0px 1px 2px rgba(0, 0, 0, 0.3));\n",
              "      fill: #FFFFFF;\n",
              "    }\n",
              "  </style>\n",
              "\n",
              "      <script>\n",
              "        const buttonEl =\n",
              "          document.querySelector('#df-647d67e4-aab2-4fe7-b479-f12a7215ff5e button.colab-df-convert');\n",
              "        buttonEl.style.display =\n",
              "          google.colab.kernel.accessAllowed ? 'block' : 'none';\n",
              "\n",
              "        async function convertToInteractive(key) {\n",
              "          const element = document.querySelector('#df-647d67e4-aab2-4fe7-b479-f12a7215ff5e');\n",
              "          const dataTable =\n",
              "            await google.colab.kernel.invokeFunction('convertToInteractive',\n",
              "                                                     [key], {});\n",
              "          if (!dataTable) return;\n",
              "\n",
              "          const docLinkHtml = 'Like what you see? Visit the ' +\n",
              "            '<a target=\"_blank\" href=https://colab.research.google.com/notebooks/data_table.ipynb>data table notebook</a>'\n",
              "            + ' to learn more about interactive tables.';\n",
              "          element.innerHTML = '';\n",
              "          dataTable['output_type'] = 'display_data';\n",
              "          await google.colab.output.renderOutput(dataTable, element);\n",
              "          const docLink = document.createElement('div');\n",
              "          docLink.innerHTML = docLinkHtml;\n",
              "          element.appendChild(docLink);\n",
              "        }\n",
              "      </script>\n",
              "    </div>\n",
              "  </div>\n",
              "  "
            ]
          },
          "metadata": {},
          "execution_count": 128
        }
      ]
    }
  ]
}