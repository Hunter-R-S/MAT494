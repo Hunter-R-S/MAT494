{
  "nbformat": 4,
  "nbformat_minor": 0,
  "metadata": {
    "colab": {
      "provenance": [],
      "authorship_tag": "ABX9TyOwo/UyYX+XHeHROPp+aVSU",
      "include_colab_link": true
    },
    "kernelspec": {
      "name": "python3",
      "display_name": "Python 3"
    },
    "language_info": {
      "name": "python"
    }
  },
  "cells": [
    {
      "cell_type": "markdown",
      "metadata": {
        "id": "view-in-github",
        "colab_type": "text"
      },
      "source": [
        "<a href=\"https://colab.research.google.com/github/Hunter-R-S/MAT494/blob/main/GraphModels.ipynb\" target=\"_parent\"><img src=\"https://colab.research.google.com/assets/colab-badge.svg\" alt=\"Open In Colab\"/></a>"
      ]
    },
    {
      "cell_type": "markdown",
      "source": [
        "# **MAT 494 - Graph Models**"
      ],
      "metadata": {
        "id": "WA-PJhJ2RMrs"
      }
    },
    {
      "cell_type": "markdown",
      "source": [
        "The following code is a use of graphing models that comes from the QuantEcon lecture series on Python."
      ],
      "metadata": {
        "id": "gIx6SoVGRCGz"
      }
    },
    {
      "cell_type": "code",
      "execution_count": 3,
      "metadata": {
        "id": "_Vp8ll5PNMA2"
      },
      "outputs": [],
      "source": [
        "import numpy as np\n",
        "import matplotlib.pyplot as plt\n",
        "import networkx as nx"
      ]
    },
    {
      "cell_type": "code",
      "source": [
        "G_p = nx.DiGraph()"
      ],
      "metadata": {
        "id": "erF7bHoPQLoO"
      },
      "execution_count": 4,
      "outputs": []
    },
    {
      "cell_type": "code",
      "source": [
        "edge_list = [\n",
        "('p', 'p'),\n",
        "('m', 'p'), ('m', 'm'), ('m', 'r'),\n",
        "('r', 'p'), ('r', 'm'), ('r', 'r')\n",
        "]"
      ],
      "metadata": {
        "id": "8-5QyrVYQXfD"
      },
      "execution_count": 5,
      "outputs": []
    },
    {
      "cell_type": "code",
      "source": [
        "for e in edge_list:\n",
        "  u, v = e\n",
        "G_p.add_edge(u, v)"
      ],
      "metadata": {
        "id": "iOwXdZMWQfGd"
      },
      "execution_count": 7,
      "outputs": []
    },
    {
      "cell_type": "code",
      "source": [
        "fig, ax = plt.subplots()\n",
        "nx.draw_spring(G_p, ax=ax, node_size=500, with_labels=True,\n",
        "font_weight='bold', arrows=True, alpha=0.8,\n",
        "connectionstyle='arc3,rad=0.25', arrowsize=20)\n",
        "plt.show()"
      ],
      "metadata": {
        "colab": {
          "base_uri": "https://localhost:8080/",
          "height": 248
        },
        "id": "OONJbNclQr_F",
        "outputId": "096a8294-09e9-4131-ee45-dc00599ad8b3"
      },
      "execution_count": 8,
      "outputs": [
        {
          "output_type": "display_data",
          "data": {
            "text/plain": [
              "<Figure size 432x288 with 1 Axes>"
            ],
            "image/png": "[encoded data removed]"
          },
          "metadata": {}
        }
      ]
    },
    {
      "cell_type": "code",
      "source": [
        "G_p.in_degree('p')"
      ],
      "metadata": {
        "colab": {
          "base_uri": "https://localhost:8080/"
        },
        "id": "0XhgheyHQySW",
        "outputId": "3c3b215f-304c-411e-842b-bcea0554ac3f"
      },
      "execution_count": 9,
      "outputs": [
        {
          "output_type": "execute_result",
          "data": {
            "text/plain": [
              "InDegreeView({})"
            ]
          },
          "metadata": {},
          "execution_count": 9
        }
      ]
    },
    {
      "cell_type": "code",
      "source": [
        "G = nx.DiGraph()\n",
        "G.add_edge(1, 1)\n",
        "G.add_edge(2, 1)\n",
        "G.add_edge(2, 3)\n",
        "G.add_edge(3, 2)\n",
        "list(nx.strongly_connected_components(G))"
      ],
      "metadata": {
        "colab": {
          "base_uri": "https://localhost:8080/"
        },
        "id": "08_3ooxKQ_3D",
        "outputId": "28c36f8a-ed8e-4d56-879d-37cc9c5cbd19"
      },
      "execution_count": 10,
      "outputs": [
        {
          "output_type": "execute_result",
          "data": {
            "text/plain": [
              "[{1}, {2, 3}]"
            ]
          },
          "metadata": {},
          "execution_count": 10
        }
      ]
    }
  ]
}